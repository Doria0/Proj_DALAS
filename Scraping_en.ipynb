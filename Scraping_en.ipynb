{
  "nbformat": 4,
  "nbformat_minor": 0,
  "metadata": {
    "colab": {
      "provenance": []
    },
    "kernelspec": {
      "name": "python3",
      "display_name": "Python 3"
    },
    "language_info": {
      "name": "python"
    }
  },
  "cells": [
    {
      "cell_type": "markdown",
      "source": [
        "Scraping d'une page wikipédia en anglais, pour récupérer les caractéristiques suivantes :\n",
        "  * Jour de sortie\n",
        "  * Mois de sortie\n",
        "  * Année de sortie\n",
        "  * Durée\n",
        "  * Pays\n",
        "  * Budget min\n",
        "  * Budget max\n",
        "  * Box office min\n",
        "  * Box office max"
      ],
      "metadata": {
        "id": "aZwxQ1RLSRZ_"
      }
    },
    {
      "cell_type": "code",
      "execution_count": 349,
      "metadata": {
        "id": "-re6_NXSxZdw"
      },
      "outputs": [],
      "source": [
        "import bs4\n",
        "import lxml\n",
        "import pandas as pd\n",
        "import urllib\n",
        "import numpy as np\n",
        "import math\n",
        "\n",
        "from urllib import request"
      ]
    },
    {
      "cell_type": "code",
      "source": [
        "url = \"https://en.wikipedia.org/wiki/Spirited_Away\"\n",
        "\n",
        "request_text = request.urlopen(url).read()\n",
        "page = bs4.BeautifulSoup(request_text, \"lxml\")"
      ],
      "metadata": {
        "id": "X49EkR1rxk7A"
      },
      "execution_count": 350,
      "outputs": []
    },
    {
      "cell_type": "code",
      "source": [
        "table_info = page.find(\"table\")"
      ],
      "metadata": {
        "id": "vqXA2Zfsx11U"
      },
      "execution_count": 351,
      "outputs": []
    },
    {
      "cell_type": "code",
      "source": [
        "lignes = table_info.find_all(\"tr\")"
      ],
      "metadata": {
        "id": "g-ZmakaeyAV0"
      },
      "execution_count": 352,
      "outputs": []
    },
    {
      "cell_type": "code",
      "source": [
        "def get_date(date):\n",
        "  \"\"\"\n",
        "  \"(YYYY-MM-DD)\" --> (YYYY, MM, DD)\n",
        "  \"\"\"\n",
        "  date = date[1:-1] # enlever les paranthèses\n",
        "  return date.split('-') # YYYY-MM-DD"
      ],
      "metadata": {
        "id": "03tLVQuaLd5u"
      },
      "execution_count": 353,
      "outputs": []
    },
    {
      "cell_type": "code",
      "source": [
        "def remove_notes(line):\n",
        "  \"\"\"\n",
        "  Enlève une note entre crochets\n",
        "  \"\"\"\n",
        "  n = len(line)\n",
        "  i_start = -1\n",
        "  i_end = -1\n",
        "  for i in range(n):\n",
        "    if line[i] == '[':\n",
        "      i_start = i\n",
        "    if line[i] == ']':\n",
        "      i_end = i\n",
        "      break\n",
        "  if i_start == -1:\n",
        "    return line\n",
        "  return line[:i_start] + line[i+1:]\n",
        "\n",
        "def remove_all_notes(line):\n",
        "  \"\"\"\n",
        "  Enlève toutes les notes entre crochets\n",
        "  \"\"\"\n",
        "  res = line\n",
        "  prev_len_line = len(line)\n",
        "  act_len_line = 0\n",
        "  while prev_len_line != act_len_line:\n",
        "    prev_len_line = act_len_line\n",
        "    res = remove_notes(res)\n",
        "    act_len_line = len(res)\n",
        "  return res"
      ],
      "metadata": {
        "id": "E81IcBlK6GLs"
      },
      "execution_count": 354,
      "outputs": []
    },
    {
      "cell_type": "code",
      "source": [
        "def convert_money(liste_str):\n",
        "  \"\"\"\n",
        "  \"$XX.X XXXXXX\" --> (nan, XXXXXXXX)\n",
        "  ou\n",
        "  \"$XX.X-YY.Y XXXXXXXXXX\" --> (XXXXXXXX, YYYYYYYYY)\n",
        "  \"\"\"\n",
        "  values = liste_str[0][1:].split('–')\n",
        "  if len(values) == 1:\n",
        "    value_min = math.nan\n",
        "  else:\n",
        "    value_min = float(values[0])\n",
        "  value_max = float(values[-1])\n",
        "  match liste_str[1]:\n",
        "    case \"million\" : return value_min * (10**6), value_max * (10**6)\n",
        "    case \"billion\" : return value_min * (10**9), value_max * (10**9) # pour les pays anglophones, 1 billion est équivalent au 1 milliard en France\n",
        "    case _ : return None"
      ],
      "metadata": {
        "id": "PvVRx9UV9qfJ"
      },
      "execution_count": 355,
      "outputs": []
    },
    {
      "cell_type": "code",
      "source": [
        "dict_res = {\n",
        "    \"Jour de sortie\" : math.nan,\n",
        "    \"Mois de sortie\" : math.nan,\n",
        "    \"Année de sortie\" : math.nan,\n",
        "    \"Durée\" : math.nan,\n",
        "    \"Pays\" : math.nan,\n",
        "    \"Budget min\" : math.nan,\n",
        "    \"Budget max\" : math.nan,\n",
        "    \"Box office min\" : math.nan,\n",
        "    \"Box office max\" : math.nan\n",
        "}\n",
        "index_list = [0]"
      ],
      "metadata": {
        "id": "o1bT6MHD1tfJ"
      },
      "execution_count": 356,
      "outputs": []
    },
    {
      "cell_type": "code",
      "source": [
        "for ligne in lignes:\n",
        "  ths = ligne.find_all(\"th\")\n",
        "  for th in ths:\n",
        "    match th.text:\n",
        "      case \"Release date\" :\n",
        "        date = remove_all_notes(ligne.find(\"td\").text).split()[3] # (YYYY-MM-DD)\n",
        "        date = get_date(date) # YYYY, MM, DD\n",
        "        dict_res[\"Année de sortie\"] = date[0]\n",
        "        dict_res[\"Mois de sortie\"] = date[1]\n",
        "        dict_res[\"Jour de sortie\"] = date[2]\n",
        "      case \"Release dates\":\n",
        "        dates = remove_all_notes(ligne.find(\"td\").text).split('\\n') # sépare les lignes, enlève les notes entre crochets\n",
        "        dates = [elem for elem in dates if elem != ''] # enlève les éventuels éléments vides\n",
        "        date = dates[0].split() # s'il y a plusieurs dates, on prend seulement la 1ère\n",
        "        date = get_date(date[3]) # (YYYY-MM-DD) --> YYYY, MM, DD\n",
        "        dict_res[\"Année de sortie\"] = date[0]\n",
        "        dict_res[\"Mois de sortie\"] = date[1]\n",
        "        dict_res[\"Jour de sortie\"] = date[2]\n",
        "      case \"Running time\" :\n",
        "        duree = remove_all_notes(ligne.find(\"td\").text).split()[0] # durée (en minutes mais l'unité est toujours la même donc pas besoin de l'enregistrer)\n",
        "        dict_res[\"Durée\"] = duree\n",
        "      case \"Country\" :\n",
        "        pays = remove_all_notes(ligne.find(\"td\").text)\n",
        "        dict_res[\"Pays\"] = pays\n",
        "      case \"Countries\" :\n",
        "        pays = remove_all_notes(ligne.find(\"td\").text).split('\\n') # sépare les lignes, enlève les notes entre crochets\n",
        "        pays = [elem for elem in pays if elem != ''] # enlever les '' vides\n",
        "        index_list = [i for i in range(len(pays))] # met à jour la liste d'index (pour le dataframe plus tard)\n",
        "        dict_res[\"Pays\"] = pays\n",
        "      case \"Budget\" :\n",
        "        budget = remove_all_notes(ligne.find(\"td\").text).split()\n",
        "        budget = convert_money(budget) # enlève le $, convertit million/billion dans la valeur\n",
        "        dict_res[\"Budget min\"] = budget[0]\n",
        "        dict_res[\"Budget max\"] = budget[1]\n",
        "      case \"Box office\" :\n",
        "        box_office = remove_all_notes(ligne.find(\"td\").text).split()\n",
        "        box_office = convert_money(box_office) # enlève le $, convertit million/billion dans la valeur\n",
        "        dict_res[\"Box office min\"] = box_office[0]\n",
        "        dict_res[\"Box office max\"] = box_office[1]"
      ],
      "metadata": {
        "id": "tH57rZ1pyUID"
      },
      "execution_count": 357,
      "outputs": []
    },
    {
      "cell_type": "code",
      "source": [
        "df = pd.DataFrame(dict_res, index=index_list) # obliger d'avoir index=[0,1] car sinon, il y a une erreur comme c'est une liste de pays de taille 2\n",
        "print(df)"
      ],
      "metadata": {
        "colab": {
          "base_uri": "https://localhost:8080/"
        },
        "id": "vbQKDMGbzP72",
        "outputId": "547a05ea-fb27-4bf5-9a47-a64a68520585"
      },
      "execution_count": 358,
      "outputs": [
        {
          "output_type": "stream",
          "name": "stdout",
          "text": [
            "  Jour de sortie Mois de sortie Année de sortie Durée   Pays  Budget min  \\\n",
            "0             20             07            2001   125  Japan         NaN   \n",
            "\n",
            "   Budget max  Box office min  Box office max  \n",
            "0  19200000.0             NaN     395800000.0  \n"
          ]
        }
      ]
    },
    {
      "cell_type": "code",
      "source": [],
      "metadata": {
        "id": "bGDzB1sSBRQq"
      },
      "execution_count": 358,
      "outputs": []
    }
  ]
}